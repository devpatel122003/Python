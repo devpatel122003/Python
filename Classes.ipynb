{
 "cells": [
  {
   "cell_type": "code",
   "execution_count": 54,
   "metadata": {},
   "outputs": [],
   "source": [
    "\n",
    "class Vector:\n",
    "    def __init__(self, x, y):\n",
    "        self.x = x\n",
    "        self.y = y\n",
    "\n",
    "    def __call__(self,x,y):\n",
    "        self.x = x\n",
    "        self.y = y\n",
    "        print(f\"X: {self.x}, Y: {self.y} \\n\")\n",
    "\n",
    "    def __del__(self):\n",
    "        print(f\"Vector object is successfully create with x: {self.x} and y: {self.y}\")\n",
    "\n",
    "    def __add__(self, other):\n",
    "        return Vector(self.x + other.x, self.y + other.y)\n",
    "    \n",
    "    def __sub__(self, other):\n",
    "        return Vector(self.x - other.x, self.y - other.y)\n",
    "    \n",
    "    def __mul__(self, other):\n",
    "        return Vector(self.x * other.x, self.y * other.y)\n",
    "    \n",
    "    def __truediv__(self, other):\n",
    "        if other.x != 0 and other.y != 0 :\n",
    "            return Vector(self.x - other.x, self.y - other.y)\n",
    "        else:\n",
    "            return f\"Can not Divide {self} with {other}\"\n",
    "        \n",
    "    def __repr__(self):\n",
    "        return f\"X: {self.x}, Y: {self.y} \\n\""
   ]
  },
  {
   "cell_type": "code",
   "execution_count": 56,
   "metadata": {},
   "outputs": [
    {
     "name": "stdout",
     "output_type": "stream",
     "text": [
      "Vector object is successfully create with x: 4 and y: 5\n",
      "Vector object is successfully create with x: 4 and y: 5\n"
     ]
    }
   ],
   "source": [
    "v1 = Vector(4,5)\n",
    "v2 = Vector(4,5)"
   ]
  },
  {
   "cell_type": "code",
   "execution_count": 57,
   "metadata": {},
   "outputs": [
    {
     "data": {
      "text/plain": [
       "(X: 4, Y: 5 , X: 4, Y: 5 )"
      ]
     },
     "execution_count": 57,
     "metadata": {},
     "output_type": "execute_result"
    }
   ],
   "source": [
    "v1, v2"
   ]
  },
  {
   "cell_type": "code",
   "execution_count": 59,
   "metadata": {},
   "outputs": [
    {
     "name": "stdout",
     "output_type": "stream",
     "text": [
      "Vector object is successfully create with x: 8 and y: 10\n",
      "Vector object is successfully create with x: 0 and y: 0\n",
      "Vector object is successfully create with x: 16 and y: 25\n",
      "Vector object is successfully create with x: 0 and y: 0\n"
     ]
    }
   ],
   "source": [
    "v3 = v1 + v2\n",
    "v4 = v1 - v2\n",
    "v5 = v1 * v2\n",
    "v6 = v1 / v2"
   ]
  },
  {
   "cell_type": "code",
   "execution_count": 60,
   "metadata": {},
   "outputs": [
    {
     "name": "stdout",
     "output_type": "stream",
     "text": [
      "X: 9, Y: 3 \n",
      "\n"
     ]
    }
   ],
   "source": [
    "v6(9,3)"
   ]
  }
 ],
 "metadata": {
  "kernelspec": {
   "display_name": "Python 3",
   "language": "python",
   "name": "python3"
  },
  "language_info": {
   "codemirror_mode": {
    "name": "ipython",
    "version": 3
   },
   "file_extension": ".py",
   "mimetype": "text/x-python",
   "name": "python",
   "nbconvert_exporter": "python",
   "pygments_lexer": "ipython3",
   "version": "3.11.9"
  }
 },
 "nbformat": 4,
 "nbformat_minor": 2
}
